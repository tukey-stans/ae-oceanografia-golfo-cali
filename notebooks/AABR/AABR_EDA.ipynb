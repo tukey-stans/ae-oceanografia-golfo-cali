{
 "cells": [
  {
   "cell_type": "code",
   "execution_count": 30,
   "id": "255568c3",
   "metadata": {},
   "outputs": [],
   "source": [
    "# Librerías principales\n",
    "import pandas as pd\n",
    "import numpy as np\n",
    "import matplotlib.pyplot as plt\n",
    "import seaborn as sns\n",
    "import scipy.signal as signal\n",
    "import pywt  # wavelet\n",
    "from sklearn.cluster import KMeans\n",
    "from sklearn.preprocessing import StandardScaler\n",
    "from pathlib import Path\n"
   ]
  },
  {
   "cell_type": "code",
   "execution_count": 36,
   "id": "5a620ce0",
   "metadata": {},
   "outputs": [
    {
     "name": "stdout",
     "output_type": "stream",
     "text": [
      "Columnas TSM: ['ORDEN', 'FECHA', 'AÑO', 'MES', 'ESTACIÓN DEL AÑO', 'EVENTO INTERANUAL', 'Est 1', 'Est 2', 'Est 3', 'Est 4', 'Est 5', 'Est 6', 'Est 7', 'Est 8', 'Est 9', 'Est 10', 'Est 11', 'Est 12', 'Est 13', 'Est 14', 'Est 15', 'Est 16', 'Est 17']\n",
      "Columnas Chla: ['ORDEN', 'FECHA', 'AÑO', 'MES', 'ESTACIÓN DEL AÑO', 'EVENTO INTERANUAL', 'Est 1', 'Est 2', 'Est 3', 'Est 4', 'Est 5', 'Est 6', 'Est 7', 'Est 8', 'Est 9', 'Est 10', 'Est 11', 'Est 12', 'Est 13', 'Est 14', 'Est 15', 'Est 16', 'Est 17']\n",
      "TSM merged: (446, 25)\n",
      "Chla merged: (254, 25)\n",
      "Correlación TSM (Est 1) - ONI: 0.1229546176418447\n",
      "Correlación Chl a (Est 1) - ONI: -0.2785677288568203\n"
     ]
    }
   ],
   "source": [
    "# --- Cargar datos principales ---\n",
    "# Establecer rutas relativas\n",
    "DATA_DIR = Path('../data/raw')\n",
    "\n",
    "# Cargar TSM y Chla\n",
    "tsm = pd.read_excel(DATA_DIR / 'Base de datos TSM consultoria estadística.xlsx')\n",
    "chla = pd.read_excel(DATA_DIR / 'Base de datos Chla consultoria estadística.xlsx')\n",
    "coordenadas = pd.read_csv(DATA_DIR / 'Coordenadas zona costera occidental GC.csv')\n",
    "\n",
    "# Cargar ONI (estaciones móviles)\n",
    "oni = pd.read_csv(DATA_DIR / 'oni-Cold & Warm Episodes by Season.csv - Sheet1.csv')\n",
    "\n",
    "# --- Limpiar nombres de columnas ---\n",
    "# Eliminar espacios y símbolos de grados °\n",
    "tsm.columns = tsm.columns.str.strip().str.replace('°', '', regex=False)\n",
    "chla.columns = chla.columns.str.strip().str.replace('°', '', regex=False)\n",
    "\n",
    "# Verificar nombres de columnas\n",
    "print(\"Columnas TSM:\", tsm.columns.tolist())\n",
    "print(\"Columnas Chla:\", chla.columns.tolist())\n",
    "\n",
    "# --- Limpiar archivo ONI ---\n",
    "# Eliminar filas basura (donde Year no sea número)\n",
    "oni = oni[oni['Year'].apply(lambda x: str(x).isdigit())].copy()\n",
    "oni['Year'] = oni['Year'].astype(int)\n",
    "\n",
    "# Formato largo\n",
    "oni_long = oni.melt(id_vars='Year', var_name='Season', value_name='ONI')\n",
    "\n",
    "# Mapeo estaciones móviles a meses\n",
    "season_to_month = {\n",
    "    'DJF': 1, 'JFM': 2, 'FMA': 3, 'MAM': 4,\n",
    "    'AMJ': 5, 'MJJ': 6, 'JJA': 7, 'JAS': 8,\n",
    "    'ASO': 9, 'SON': 10, 'OND': 11, 'NDJ': 12\n",
    "}\n",
    "oni_long['Month'] = oni_long['Season'].map(season_to_month)\n",
    "\n",
    "# Crear columna de fecha\n",
    "oni_long['Fecha'] = pd.to_datetime(dict(year=oni_long['Year'],\n",
    "                                        month=oni_long['Month'],\n",
    "                                        day=15))\n",
    "\n",
    "# Limpiar y ordenar\n",
    "oni_long = oni_long[['Fecha', 'ONI']].dropna().sort_values('Fecha').reset_index(drop=True)\n",
    "\n",
    "# --- Alinear FECHAS para hacer merge ---\n",
    "# Convertir FECHA a periodo mensual (año-mes) para tsm y chla\n",
    "tsm['FECHA'] = pd.to_datetime(tsm['FECHA']).dt.to_period('M').dt.to_timestamp()\n",
    "chla['FECHA'] = pd.to_datetime(chla['FECHA']).dt.to_period('M').dt.to_timestamp()\n",
    "oni_long['Fecha'] = oni_long['Fecha'].dt.to_period('M').dt.to_timestamp()\n",
    "\n",
    "# --- Merge de datos ---\n",
    "merged_tsm = pd.merge(tsm, oni_long, left_on='FECHA', right_on='Fecha', how='inner')\n",
    "merged_chla = pd.merge(chla, oni_long, left_on='FECHA', right_on='Fecha', how='inner')\n",
    "\n",
    "# Verificar\n",
    "print(\"TSM merged:\", merged_tsm.shape)\n",
    "print(\"Chla merged:\", merged_chla.shape)\n",
    "\n",
    "# --- Ejemplo de correlación en una estación (ya normalizada el nombre) ---\n",
    "print(\"Correlación TSM (Est 1) - ONI:\", merged_tsm['Est 1'].corr(merged_tsm['ONI']))\n",
    "print(\"Correlación Chl a (Est 1) - ONI:\", merged_chla['Est 1'].corr(merged_chla['ONI']))"
   ]
  },
  {
   "cell_type": "code",
   "execution_count": 32,
   "id": "c75c2985",
   "metadata": {},
   "outputs": [
    {
     "name": "stdout",
     "output_type": "stream",
     "text": [
      "   Estación  Corr_TSM_ONI  Corr_Chla_ONI\n",
      "0     Est 1         0.123         -0.279\n",
      "1     Est 2         0.116         -0.207\n",
      "2     Est 3         0.107         -0.170\n",
      "3     Est 4         0.106         -0.191\n",
      "4     Est 5         0.111         -0.085\n",
      "5     Est 6         0.106         -0.113\n",
      "6     Est 7         0.104         -0.078\n",
      "7     Est 8         0.097         -0.004\n",
      "8     Est 9         0.104         -0.054\n",
      "9    Est 10         0.115          0.036\n",
      "10   Est 11         0.108          0.097\n",
      "11   Est 12         0.088          0.038\n",
      "12   Est 13         0.069         -0.022\n",
      "13   Est 14         0.053          0.024\n",
      "14   Est 15         0.057         -0.065\n",
      "15   Est 16         0.046         -0.078\n",
      "16   Est 17         0.036         -0.026\n"
     ]
    },
    {
     "name": "stderr",
     "output_type": "stream",
     "text": [
      "C:\\Users\\angel\\AppData\\Local\\Temp\\ipykernel_972\\3672781692.py:11: FutureWarning: The behavior of DataFrame concatenation with empty or all-NA entries is deprecated. In a future version, this will no longer exclude empty or all-NA columns when determining the result dtypes. To retain the old behavior, exclude the relevant entries before the concat operation.\n",
      "  correlaciones = pd.concat([\n"
     ]
    }
   ],
   "source": [
    "# Lista de estaciones\n",
    "estaciones = [col for col in tsm.columns if col.startswith(\"Est \")]\n",
    "\n",
    "# Crear DataFrame vacío\n",
    "correlaciones = pd.DataFrame(columns=[\"Estación\", \"Corr_TSM_ONI\", \"Corr_Chla_ONI\"])\n",
    "\n",
    "# Calcular correlación para cada estación\n",
    "for est in estaciones:\n",
    "    corr_tsm = merged_tsm[est].corr(merged_tsm[\"ONI\"])\n",
    "    corr_chla = merged_chla[est].corr(merged_chla[\"ONI\"])\n",
    "    correlaciones = pd.concat([\n",
    "        correlaciones,\n",
    "        pd.DataFrame([{\n",
    "            \"Estación\": est,\n",
    "            \"Corr_TSM_ONI\": round(corr_tsm, 3),\n",
    "            \"Corr_Chla_ONI\": round(corr_chla, 3)\n",
    "        }])\n",
    "    ], ignore_index=True)\n",
    "\n",
    "# Mostrar tabla\n",
    "print(correlaciones)\n"
   ]
  },
  {
   "cell_type": "code",
   "execution_count": 35,
   "id": "cdb475bc",
   "metadata": {},
   "outputs": [],
   "source": [
    "# Guardar como CSV\n",
    "correlaciones.to_csv(\"../data/interim/AABR_Notebooks/correlaciones_estaciones_ONI.csv\", index=False)"
   ]
  }
 ],
 "metadata": {
  "kernelspec": {
   "display_name": "env",
   "language": "python",
   "name": "python3"
  },
  "language_info": {
   "codemirror_mode": {
    "name": "ipython",
    "version": 3
   },
   "file_extension": ".py",
   "mimetype": "text/x-python",
   "name": "python",
   "nbconvert_exporter": "python",
   "pygments_lexer": "ipython3",
   "version": "3.12.6"
  }
 },
 "nbformat": 4,
 "nbformat_minor": 5
}
